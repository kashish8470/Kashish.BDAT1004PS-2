{
 "cells": [
  {
   "cell_type": "markdown",
   "id": "4787eff5",
   "metadata": {},
   "source": [
    "## Solution 1:"
   ]
  },
  {
   "cell_type": "markdown",
   "id": "f45a078d",
   "metadata": {},
   "source": [
    "<b> When the last expression, a is evaluated, the value displayed is 6. </b>\n",
    "The explanation for every statement is:\n",
    "\n",
    "<b>'a = 0':</b> The variable is defined outside of the function, it is a global variable and its value is 0 here.\n",
    "\n",
    "<b>'def(b)':</b> A function 'b' is defined here.\n",
    "\n",
    "<b>'global a': </b> This statement tells python that we want to use the global variable 'a' inside the function and not create a local variable 'a'.\n",
    "\n",
    "<b>'a=c(a)':</b> This line calls the functionc(a), here the value of a is zero.\n",
    "\n",
    "<b>'def c(a)':</b> This line defines a function c(a) which will take the parameter 'a'.\n",
    "\n",
    "<b>'return a+2':</b> This line will return the value of a+2. In the above line where c(a) was called, the value of a was zero hence it will return the value 0+2 = 2 now.\n",
    "\n",
    "### After executing the b() function:\n",
    "\n",
    "<b>The first time b() is called, it returns the value 2 as 'a' was equal to zero and each time the value of b() is called, 2 will be added to it and 'a' becomes 2.</b>\n",
    "\n",
    "Next time b() is called, it adds 2 to the previous value of a. Hence, 2+2 = 4.\n",
    "\n",
    "Now when b() is called again, it adds 2 to the previous value of a. Therefore, 4+2 = 6.\n",
    "\n",
    "Now when the value of global variable 'a' is 6, <b> hence the value displayed will be 6. </b>"
   ]
  },
  {
   "cell_type": "markdown",
   "id": "70bd99df",
   "metadata": {},
   "source": [
    "## Solution 2"
   ]
  },
  {
   "cell_type": "code",
   "execution_count": 13,
   "id": "3c9a3559",
   "metadata": {},
   "outputs": [
    {
     "name": "stdout",
     "output_type": "stream",
     "text": [
      "File idterm.py not found\n"
     ]
    },
    {
     "data": {
      "text/plain": [
       "3489"
      ]
     },
     "execution_count": 13,
     "metadata": {},
     "output_type": "execute_result"
    }
   ],
   "source": [
    "#Modifications made to the function are as follows:\n",
    "\n",
    "def file_length(file_name):\n",
    "    try:                         #Using try/except statement pair\n",
    "        file = open(file_name)\n",
    "        contents = file.read()\n",
    "        file.close()\n",
    "        print(len(contents))\n",
    "    except FileNotFoundError:   # instead of FileNotFoundError, it will display this line\n",
    "        print(f\"File {filename} not found\")\n",
    "\n",
    "fileLength('idterm.py')\n",
    "fileLength('Solution 22.ipynb')\n",
    "    "
   ]
  },
  {
   "cell_type": "markdown",
   "id": "5fe0e34d",
   "metadata": {},
   "source": [
    "## Solution 3"
   ]
  },
  {
   "cell_type": "code",
   "execution_count": 25,
   "id": "fa15e6e3",
   "metadata": {},
   "outputs": [
    {
     "name": "stdout",
     "output_type": "stream",
     "text": [
      "I am a kangaroo located at coordinates (0, 0)\n",
      "['doll', 'firetruck', 'kitten']\n",
      "I am a kangaroo located at coordinates (3, 0)\n"
     ]
    }
   ],
   "source": [
    "class Marsupial:          #define a class marsupial\n",
    "    def __init__(self):\n",
    "        self.pouch = []    #the __init__ method initializes a list 'pouch'\n",
    "    \n",
    "    def put_in_pouch(self, name):\n",
    "        self.pouch.append(name)     #this method takes the items and store it in the list 'pouch'\n",
    "    \n",
    "    def pouch_contents(self):      #this returns all the contents in the list 'pouch'\n",
    "        return self.pouch\n",
    "    \n",
    "m = Marsupial()\n",
    "\n",
    "m.put_in_pouch(\"doll\")         #puts the name: doll in the pouch\n",
    "m.put_in_pouch(\"firetruck\")    #puts the name: firetruck in the pouch\n",
    "m.put_in_pouch(\"kitten\")       #puts the name: kitten in the pouch\n",
    "m.pouch_contents()             #print all the contents in the pouch as a list\n",
    "\n",
    "class Kangaroo(Marsupial):     #A class 'Kangaroo' is defined, which is a subclass of Marsupial\n",
    "    def __init__(self, x, y):  #the __init__ method will take the values \n",
    "        super().__init__()     #the super method will call the specifics of the Marsupial to the Kangaroo class\n",
    "        self.x = x             #assigning the value of x coordinate\n",
    "        self.y = y             #assigning the value of y coordinate\n",
    "        \n",
    "    def jump(self, dx, dy):    #this method takes inputs in the form of dx and dy which are the values that kangaroo jumped on x-axis and y-axis respectively\n",
    "        self.x += dx           #adding the value of dx to the coordinate x\n",
    "        self.y += dy           #adding the value of dy to the coorindate y\n",
    "        \n",
    "    def __str__(self):        #string representation of the object Kangaroo\n",
    "        return(f\"I am a kangaroo located at coordinates ({self.x}, {self.y})\")\n",
    "\n",
    "k = Kangaroo(0, 0)  \n",
    "\n",
    "print(k)  \n",
    "\n",
    "k.put_in_pouch('doll')  \n",
    "k.put_in_pouch('firetruck')\n",
    "k.put_in_pouch('kitten')\n",
    "\n",
    "print(k.pouch_contents())  \n",
    "\n",
    "k.jump(1, 0)  \n",
    "k.jump(1, 0)  \n",
    "k.jump(1, 0) \n",
    "\n",
    "print(k) \n",
    "\n",
    "        \n"
   ]
  },
  {
   "cell_type": "markdown",
   "id": "b5363605",
   "metadata": {},
   "source": [
    "## Solution 4"
   ]
  },
  {
   "cell_type": "code",
   "execution_count": 29,
   "id": "4be7fa2a",
   "metadata": {},
   "outputs": [
    {
     "name": "stdout",
     "output_type": "stream",
     "text": [
      "1\n",
      "10\n",
      "5\n",
      "16\n",
      "8\n",
      "4\n",
      "2\n",
      "1\n"
     ]
    }
   ],
   "source": [
    "def  collatz(x):    #defined a function 'collatz' which takes input as 'x'\n",
    "    print(int(x))   #print 'x' as integer as otherwise it prints it with one decimal place\n",
    "    if x == 1:      #applying a condition that if x is 1, return the value of x as it is\n",
    "        return\n",
    "    elif x%2 == 0:  #using else if statement, if x is even, divide the x by 2\n",
    "        collatz(x/2)\n",
    "    else:\n",
    "        collatz(3*x + 1)  #if x is odd, multiply x by 3 and add 1 to it\n",
    "        \n",
    "collatz(1)\n",
    "collatz(10)\n",
    "\n"
   ]
  },
  {
   "cell_type": "markdown",
   "id": "9b68927b",
   "metadata": {},
   "source": [
    "## Solution 5"
   ]
  },
  {
   "cell_type": "code",
   "execution_count": 63,
   "id": "3e4597fe",
   "metadata": {},
   "outputs": [
    {
     "name": "stdout",
     "output_type": "stream",
     "text": [
      "0\n",
      "1\n",
      "11\n",
      "1001\n"
     ]
    }
   ],
   "source": [
    "def binary(n):         #define a function 'binary' which will take input as n\n",
    "    if n == 0:         #condition that if n is equals to 0, return 0\n",
    "        return '0'\n",
    "    elif n == 1:       #condition that if n is equals to 1, print 1\n",
    "        return '1'\n",
    "    else:\n",
    "        return binary(n//2)+str(n%2)      #if it's any other number than 0 or 1, divide the number with 2 and concatenate it with the remainder and print it\n",
    "    \n",
    "print(binary(0))\n",
    "print(binary(1))\n",
    "print(binary(3))\n",
    "print(binary(9))"
   ]
  },
  {
   "cell_type": "markdown",
   "id": "b205c13a",
   "metadata": {},
   "source": [
    "## Solution 8"
   ]
  },
  {
   "cell_type": "code",
   "execution_count": null,
   "id": "9baf5001",
   "metadata": {},
   "outputs": [],
   "source": []
  },
  {
   "cell_type": "markdown",
   "id": "203f105d",
   "metadata": {},
   "source": [
    "## Solution 9"
   ]
  },
  {
   "cell_type": "code",
   "execution_count": 85,
   "id": "186e94c1",
   "metadata": {},
   "outputs": [
    {
     "name": "stdout",
     "output_type": "stream",
     "text": [
      "['THE', 'QUICK', 'BROWN', 'FOX', 'JUMPS', 'OVER', 'THE', 'LAZY', 'DOG']\n",
      "['the', 'quick', 'brown', 'fox', 'jumps', 'over', 'the', 'lazy', 'dog']\n",
      "[3, 5, 5, 3, 5, 4, 3, 4, 3]\n",
      "[['THE', 'the', 3], ['QUICK', 'quick', 5], ['BROWN', 'brown', 5], ['FOX', 'fox', 3], ['JUMPS', 'jumps', 5], ['OVER', 'over', 4], ['THE', 'the', 3], ['LAZY', 'lazy', 4], ['DOG', 'dog', 3]]\n",
      "['quick', 'brown', 'jumps', 'over', 'lazy']\n"
     ]
    }
   ],
   "source": [
    "words = ['The', 'quick', 'brown', 'fox', 'jumps', 'over', 'the', 'lazy', 'dog']\n",
    "\n",
    "uppercase = [word.upper() for word in words]\n",
    "print(uppercase)\n",
    "\n",
    "lowercase = [word.lower() for word in words]\n",
    "print(lowercase)\n",
    "\n",
    "length = [len(word) for word in words]\n",
    "print(length)\n",
    "\n",
    "word_details = [[word.upper(), word.lower(), len(word)] for word in words]\n",
    "print(word_details)\n",
    "\n",
    "filter_words = [word for word in words if len(word) >= 4]\n",
    "print(filter_words)"
   ]
  },
  {
   "cell_type": "code",
   "execution_count": null,
   "id": "b8b95055",
   "metadata": {},
   "outputs": [],
   "source": []
  }
 ],
 "metadata": {
  "kernelspec": {
   "display_name": "Python 3 (ipykernel)",
   "language": "python",
   "name": "python3"
  },
  "language_info": {
   "codemirror_mode": {
    "name": "ipython",
    "version": 3
   },
   "file_extension": ".py",
   "mimetype": "text/x-python",
   "name": "python",
   "nbconvert_exporter": "python",
   "pygments_lexer": "ipython3",
   "version": "3.10.9"
  }
 },
 "nbformat": 4,
 "nbformat_minor": 5
}
